{
 "cells": [
  {
   "cell_type": "code",
   "execution_count": 29,
   "metadata": {},
   "outputs": [],
   "source": [
    "import sympy as sp\n",
    "import numpy as np\n",
    "import keras\n",
    "X=np.loadtxt('/home/djc6w/S20-team4-project/src/train.csv', delimiter = ',')\n",
    "X=X.astype('float32')\n",
    "Y=np.loadtxt('/home/djc6w/S20-team4-project/src/test.csv', delimiter = ',')\n",
    "Y=Y.astype('float32')"
   ]
  },
  {
   "cell_type": "code",
   "execution_count": 30,
   "metadata": {},
   "outputs": [
    {
     "name": "stdout",
     "output_type": "stream",
     "text": [
      "(495, 81)\n",
      "(495, 81)\n"
     ]
    }
   ],
   "source": [
    "print(X.shape)\n",
    "print(Y.shape)"
   ]
  },
  {
   "cell_type": "code",
   "execution_count": 31,
   "metadata": {},
   "outputs": [],
   "source": [
    "x_train = np.zeros((X.shape[0],9,9,1))\n",
    "for i in range(X.shape[0]):\n",
    "    x_train[i,:,:,0] = X[i].reshape(9,9)\n",
    "y_train = Y"
   ]
  },
  {
   "cell_type": "code",
   "execution_count": 32,
   "metadata": {},
   "outputs": [
    {
     "data": {
      "text/plain": [
       "(495, 9, 9, 1)"
      ]
     },
     "metadata": {},
     "output_type": "display_data"
    },
    {
     "data": {
      "text/plain": [
       "(495, 81)"
      ]
     },
     "metadata": {},
     "output_type": "display_data"
    }
   ],
   "source": [
    "display(x_train.shape)\n",
    "display(y_train.shape)"
   ]
  },
  {
   "cell_type": "code",
   "execution_count": 44,
   "metadata": {},
   "outputs": [
    {
     "data": {
      "text/latex": [
       "$\\displaystyle \\left[\\begin{matrix}0.0 & 0.0 & -0.100000001490116 & -0.100000001490116 & -0.100000001490116 & 0.0 & 0.0 & -0.100000001490116 & -0.100000001490116\\\\0.0 & -0.100000001490116 & -0.200000002980232 & 1.0 & -0.100000001490116 & 0.0 & 0.0 & -0.100000001490116 & 1.0\\\\-0.100000001490116 & -0.200000002980232 & 1.0 & -0.200000002980232 & -0.100000001490116 & 0.0 & 0.0 & -0.100000001490116 & -0.100000001490116\\\\-0.100000001490116 & 1.0 & -0.200000002980232 & -0.100000001490116 & 0.0 & 0.0 & 0.0 & 0.0 & 0.0\\\\-0.100000001490116 & -0.100000001490116 & -0.100000001490116 & 0.0 & 0.0 & 0.0 & 0.0 & 0.0 & 0.0\\\\-0.100000001490116 & 1.0 & -0.200000002980232 & -0.200000002980232 & -0.200000002980232 & -0.100000001490116 & -0.100000001490116 & 0.0 & 0.0\\\\1.0 & 1.0 & 1.0 & 1.0 & 1.0 & 1.0 & -0.100000001490116 & 0.0 & 0.0\\\\1.0 & 1.0 & 1.0 & 1.0 & -0.300000011920929 & -0.100000001490116 & -0.100000001490116 & 0.0 & 0.0\\\\1.0 & 1.0 & 1.0 & 1.0 & -0.100000001490116 & 0.0 & 0.0 & 0.0 & 0.0\\end{matrix}\\right]$"
      ],
      "text/plain": [
       "Matrix([\n",
       "[               0.0,                0.0, -0.100000001490116, -0.100000001490116, -0.100000001490116,                0.0,                0.0, -0.100000001490116, -0.100000001490116],\n",
       "[               0.0, -0.100000001490116, -0.200000002980232,                1.0, -0.100000001490116,                0.0,                0.0, -0.100000001490116,                1.0],\n",
       "[-0.100000001490116, -0.200000002980232,                1.0, -0.200000002980232, -0.100000001490116,                0.0,                0.0, -0.100000001490116, -0.100000001490116],\n",
       "[-0.100000001490116,                1.0, -0.200000002980232, -0.100000001490116,                0.0,                0.0,                0.0,                0.0,                0.0],\n",
       "[-0.100000001490116, -0.100000001490116, -0.100000001490116,                0.0,                0.0,                0.0,                0.0,                0.0,                0.0],\n",
       "[-0.100000001490116,                1.0, -0.200000002980232, -0.200000002980232, -0.200000002980232, -0.100000001490116, -0.100000001490116,                0.0,                0.0],\n",
       "[               1.0,                1.0,                1.0,                1.0,                1.0,                1.0, -0.100000001490116,                0.0,                0.0],\n",
       "[               1.0,                1.0,                1.0,                1.0, -0.300000011920929, -0.100000001490116, -0.100000001490116,                0.0,                0.0],\n",
       "[               1.0,                1.0,                1.0,                1.0, -0.100000001490116,                0.0,                0.0,                0.0,                0.0]])"
      ]
     },
     "metadata": {},
     "output_type": "display_data"
    },
    {
     "data": {
      "text/latex": [
       "$\\displaystyle \\left[\\begin{matrix}0.0 & 0.0 & -0.1 & -0.1 & -0.1 & 0.0 & 0.0 & -0.1 & -0.1\\\\0.0 & -0.1 & -0.2 & -1.0 & -0.1 & 0.0 & 0.0 & -0.1 & -1.0\\\\-0.1 & -0.2 & -1.0 & -0.2 & -0.1 & 0.0 & 0.0 & -0.1 & -0.1\\\\-0.1 & -1.0 & -0.2 & -0.1 & 0.0 & 0.0 & 0.0 & 0.0 & 0.0\\\\-0.1 & -0.1 & -0.1 & 0.0 & 0.0 & 0.0 & 0.0 & 0.0 & 0.0\\\\-0.1 & -0.2 & -0.2 & -0.2 & -0.2 & -0.1 & -0.1 & 0.0 & 0.0\\\\-1.0 & -0.3 & -1.0 & -1.0 & -0.3 & -1.0 & -0.1 & 0.0 & 0.0\\\\-0.2 & -1.0 & -0.4 & -1.0 & -0.3 & -0.1 & -0.1 & 0.0 & 0.0\\\\-0.1 & -0.1 & -0.2 & -0.1 & -0.1 & 0.0 & 0.0 & 0.0 & 0.0\\end{matrix}\\right]$"
      ],
      "text/plain": [
       "Matrix([\n",
       "[ 0.0,  0.0, -0.1, -0.1, -0.1,  0.0,  0.0, -0.1, -0.1],\n",
       "[ 0.0, -0.1, -0.2, -1.0, -0.1,  0.0,  0.0, -0.1, -1.0],\n",
       "[-0.1, -0.2, -1.0, -0.2, -0.1,  0.0,  0.0, -0.1, -0.1],\n",
       "[-0.1, -1.0, -0.2, -0.1,  0.0,  0.0,  0.0,  0.0,  0.0],\n",
       "[-0.1, -0.1, -0.1,  0.0,  0.0,  0.0,  0.0,  0.0,  0.0],\n",
       "[-0.1, -0.2, -0.2, -0.2, -0.2, -0.1, -0.1,  0.0,  0.0],\n",
       "[-1.0, -0.3, -1.0, -1.0, -0.3, -1.0, -0.1,  0.0,  0.0],\n",
       "[-0.2, -1.0, -0.4, -1.0, -0.3, -0.1, -0.1,  0.0,  0.0],\n",
       "[-0.1, -0.1, -0.2, -0.1, -0.1,  0.0,  0.0,  0.0,  0.0]])"
      ]
     },
     "metadata": {},
     "output_type": "display_data"
    },
    {
     "data": {
      "text/plain": [
       "(495, 9, 9, 1)"
      ]
     },
     "execution_count": 44,
     "metadata": {},
     "output_type": "execute_result"
    }
   ],
   "source": [
    "display(sp.Matrix(x_train[8,:,:,0]))\n",
    "display(sp.Matrix(y_train[8].reshape(9,9)))\n",
    "x_train.shape"
   ]
  },
  {
   "cell_type": "code",
   "execution_count": 47,
   "metadata": {},
   "outputs": [
    {
     "name": "stdout",
     "output_type": "stream",
     "text": [
      "Model: \"sequential_8\"\n",
      "_________________________________________________________________\n",
      "Layer (type)                 Output Shape              Param #   \n",
      "=================================================================\n",
      "conv2d_19 (Conv2D)           (None, 5, 5, 12)          312       \n",
      "_________________________________________________________________\n",
      "conv2d_20 (Conv2D)           (None, 3, 3, 3)           327       \n",
      "_________________________________________________________________\n",
      "flatten_8 (Flatten)          (None, 27)                0         \n",
      "_________________________________________________________________\n",
      "dense_15 (Dense)             (None, 162)               4536      \n",
      "_________________________________________________________________\n",
      "dense_16 (Dense)             (None, 81)                13203     \n",
      "=================================================================\n",
      "Total params: 18,378\n",
      "Trainable params: 18,378\n",
      "Non-trainable params: 0\n",
      "_________________________________________________________________\n"
     ]
    }
   ],
   "source": [
    "model = keras.Sequential()\n",
    "model.add(keras.layers.Conv2D(12, kernel_size=(5,5),\n",
    "                              activation = 'relu',\n",
    "                              data_format='channels_last',\n",
    "                              input_shape=[x_train.shape[1],\n",
    "                                          x_train.shape[2],\n",
    "                                          x_train.shape[3]]))\n",
    "model.add(keras.layers.Conv2D(3,(3,3),activation='relu'))\n",
    "model.add(keras.layers.Flatten())\n",
    "model.add(keras.layers.Dense(162,activation='relu'))\n",
    "model.add(keras.layers.Dense(81, activation='sigmoid'))\n",
    "\n",
    "model.compile(loss=keras.losses.binary_crossentropy,\n",
    "              optimizer=keras.optimizers.SGD(),\n",
    "              metrics=['accuracy'])\n",
    "model.summary()"
   ]
  },
  {
   "cell_type": "code",
   "execution_count": 48,
   "metadata": {},
   "outputs": [
    {
     "name": "stdout",
     "output_type": "stream",
     "text": [
      "Epoch 1/5\n",
      "495/495 [==============================] - 2s 3ms/step - loss: 0.6785 - accuracy: 0.2166\n",
      "Epoch 2/5\n",
      "495/495 [==============================] - 1s 2ms/step - loss: 0.6459 - accuracy: 0.2528\n",
      "Epoch 3/5\n",
      "495/495 [==============================] - 1s 2ms/step - loss: 0.5545 - accuracy: 0.2850\n",
      "Epoch 4/5\n",
      "495/495 [==============================] - 1s 2ms/step - loss: 0.1197 - accuracy: 0.3239\n",
      "Epoch 5/5\n",
      "495/495 [==============================] - 1s 2ms/step - loss: -6.7812 - accuracy: 0.3554\n"
     ]
    }
   ],
   "source": [
    "batch_size = 5\n",
    "epochs = 5\n",
    "history = model.fit(x_train,y_train,\n",
    "                   batch_size=batch_size,\n",
    "                   epochs=epochs,\n",
    "                   verbose=1)"
   ]
  },
  {
   "cell_type": "code",
   "execution_count": 49,
   "metadata": {},
   "outputs": [
    {
     "data": {
      "image/png": "[encoded data removed]",
      "text/plain": [
       "<Figure size 432x288 with 2 Axes>"
      ]
     },
     "metadata": {
      "needs_background": "light"
     },
     "output_type": "display_data"
    }
   ],
   "source": [
    "import matplotlib.pyplot as plt\n",
    "plt.figure(1)\n",
    "plt.subplot(211)\n",
    "\n",
    "plt.plot(history.history['accuracy'])\n",
    "plt.title('model accuracy')\n",
    "plt.ylabel('accuracy')\n",
    "plt.xlabel('epoch')\n",
    "plt.legend(['train','val'],loc='upper left')\n",
    "\n",
    "plt.subplot(212)\n",
    "plt.plot(history.history['loss'])\n",
    "plt.title('model loss')\n",
    "plt.xlabel('epoch')\n",
    "plt.ylabel('loss')\n",
    "plt.legend(['train','val'], loc='upper left')\n",
    "\n",
    "plt.tight_layout()\n",
    "plt.show()"
   ]
  },
  {
   "cell_type": "code",
   "execution_count": 51,
   "metadata": {},
   "outputs": [
    {
     "name": "stdout",
     "output_type": "stream",
     "text": [
      "[[0.0000000e+00 0.0000000e+00 0.0000000e+00 ... 0.0000000e+00\n",
      "  0.0000000e+00 0.0000000e+00]\n",
      " [0.0000000e+00 0.0000000e+00 0.0000000e+00 ... 0.0000000e+00\n",
      "  0.0000000e+00 0.0000000e+00]\n",
      " [0.0000000e+00 0.0000000e+00 0.0000000e+00 ... 0.0000000e+00\n",
      "  0.0000000e+00 0.0000000e+00]\n",
      " ...\n",
      " [0.0000000e+00 0.0000000e+00 0.0000000e+00 ... 0.0000000e+00\n",
      "  0.0000000e+00 0.0000000e+00]\n",
      " [0.0000000e+00 0.0000000e+00 0.0000000e+00 ... 1.2654946e-36\n",
      "  0.0000000e+00 0.0000000e+00]\n",
      " [0.0000000e+00 4.2248170e-36 0.0000000e+00 ... 2.0679419e-32\n",
      "  1.9271308e-38 0.0000000e+00]]\n"
     ]
    },
    {
     "data": {
      "text/latex": [
       "$\\displaystyle \\left[\\begin{matrix}0.0 & 0.0 & -0.1 & -0.1 & -0.1 & 0.0 & 0.0 & -0.1 & -0.1\\\\0.0 & -0.1 & -0.2 & -1.0 & -0.1 & 0.0 & 0.0 & -0.1 & -1.0\\\\-0.1 & -0.2 & -1.0 & -0.2 & -0.1 & 0.0 & 0.0 & -0.1 & -0.1\\\\-0.1 & -1.0 & -0.2 & -0.1 & 0.0 & 0.0 & 0.0 & 0.0 & 0.0\\\\-0.1 & -0.1 & -0.1 & 0.0 & 0.0 & 0.0 & 0.0 & 0.0 & 0.0\\\\-0.1 & -0.2 & -0.2 & -0.2 & -0.2 & -0.1 & -0.1 & 0.0 & 0.0\\\\-1.0 & -0.3 & -1.0 & -1.0 & -0.3 & -1.0 & -0.1 & 0.0 & 0.0\\\\-0.2 & -1.0 & -0.4 & -1.0 & -0.3 & -0.1 & -0.1 & 0.0 & 0.0\\\\-0.1 & -0.1 & -0.2 & -0.1 & -0.1 & 0.0 & 0.0 & 0.0 & 0.0\\end{matrix}\\right]$"
      ],
      "text/plain": [
       "Matrix([\n",
       "[ 0.0,  0.0, -0.1, -0.1, -0.1,  0.0,  0.0, -0.1, -0.1],\n",
       "[ 0.0, -0.1, -0.2, -1.0, -0.1,  0.0,  0.0, -0.1, -1.0],\n",
       "[-0.1, -0.2, -1.0, -0.2, -0.1,  0.0,  0.0, -0.1, -0.1],\n",
       "[-0.1, -1.0, -0.2, -0.1,  0.0,  0.0,  0.0,  0.0,  0.0],\n",
       "[-0.1, -0.1, -0.1,  0.0,  0.0,  0.0,  0.0,  0.0,  0.0],\n",
       "[-0.1, -0.2, -0.2, -0.2, -0.2, -0.1, -0.1,  0.0,  0.0],\n",
       "[-1.0, -0.3, -1.0, -1.0, -0.3, -1.0, -0.1,  0.0,  0.0],\n",
       "[-0.2, -1.0, -0.4, -1.0, -0.3, -0.1, -0.1,  0.0,  0.0],\n",
       "[-0.1, -0.1, -0.2, -0.1, -0.1,  0.0,  0.0,  0.0,  0.0]])"
      ]
     },
     "metadata": {},
     "output_type": "display_data"
    }
   ],
   "source": [
    "preds = model.predict(x_train[:,:,:,:]).astype(\"float32\")\n",
    "print(preds)\n",
    "display(sp.Matrix(y_train[8].reshape(9,9)))"
   ]
  },
  {
   "cell_type": "code",
   "execution_count": null,
   "metadata": {},
   "outputs": [],
   "source": []
  }
 ],
 "metadata": {
  "kernelspec": {
   "display_name": "Python 3",
   "language": "python",
   "name": "python3"
  },
  "language_info": {
   "codemirror_mode": {
    "name": "ipython",
    "version": 3
   },
   "file_extension": ".py",
   "mimetype": "text/x-python",
   "name": "python",
   "nbconvert_exporter": "python",
   "pygments_lexer": "ipython3",
   "version": "3.7.6"
  }
 },
 "nbformat": 4,
 "nbformat_minor": 4
}
