{
 "cells": [
  {
   "cell_type": "code",
   "execution_count": 7,
   "metadata": {},
   "outputs": [
    {
     "name": "stderr",
     "output_type": "stream",
     "text": [
      "Using TensorFlow backend.\n"
     ]
    }
   ],
   "source": [
    "import sympy as sp\n",
    "import numpy as np\n",
    "import keras\n",
    "X=np.loadtxt('/home/djc6w/S20-team4-project/src/train.csv', delimiter = ',')\n",
    "X=X.astype('float32')\n",
    "Y=np.loadtxt('/home/djc6w/S20-team4-project/src/test.csv', delimiter = ',')\n",
    "Y=Y.astype('float32')"
   ]
  },
  {
   "cell_type": "code",
   "execution_count": 8,
   "metadata": {},
   "outputs": [
    {
     "name": "stdout",
     "output_type": "stream",
     "text": [
      "(3265, 81)\n",
      "(3265, 81)\n"
     ]
    }
   ],
   "source": [
    "print(X.shape)\n",
    "print(Y.shape)"
   ]
  },
  {
   "cell_type": "code",
   "execution_count": 9,
   "metadata": {},
   "outputs": [],
   "source": [
    "x_train = np.zeros((X.shape[0],9,9,1))\n",
    "for i in range(X.shape[0]):\n",
    "    x_train[i,:,:,0] = X[i].reshape(9,9)\n",
    "y_train = Y"
   ]
  },
  {
   "cell_type": "code",
   "execution_count": 10,
   "metadata": {},
   "outputs": [
    {
     "data": {
      "text/plain": [
       "(3265, 9, 9, 1)"
      ]
     },
     "metadata": {},
     "output_type": "display_data"
    },
    {
     "data": {
      "text/plain": [
       "(3265, 81)"
      ]
     },
     "metadata": {},
     "output_type": "display_data"
    }
   ],
   "source": [
    "display(x_train.shape)\n",
    "display(y_train.shape)"
   ]
  },
  {
   "cell_type": "code",
   "execution_count": 12,
   "metadata": {},
   "outputs": [
    {
     "data": {
      "text/latex": [
       "$\\displaystyle \\left[\\begin{matrix}0.5 & 0.5 & 0.5 & 0.5 & 0.5 & 0.5 & 0.5 & 0.449999988079071 & 1.0\\\\0.449999988079071 & 0.449999988079071 & 0.449999988079071 & 0.5 & 0.5 & 0.449999988079071 & 0.400000005960464 & 0.349999994039536 & 0.400000005960464\\\\0.449999988079071 & 1.0 & 0.449999988079071 & 0.5 & 0.5 & 0.449999988079071 & 1.0 & 1.0 & 0.400000005960464\\\\0.449999988079071 & 0.449999988079071 & 0.449999988079071 & 0.5 & 0.5 & 0.449999988079071 & 0.400000005960464 & 0.300000011920929 & 1.0\\\\0.5 & 0.5 & 0.5 & 0.5 & 0.5 & 0.5 & 0.5 & 0.400000005960464 & 1.0\\\\0.449999988079071 & 0.449999988079071 & 0.449999988079071 & 0.5 & 0.5 & 0.5 & 0.5 & 0.400000005960464 & 0.400000005960464\\\\0.449999988079071 & 1.0 & 0.449999988079071 & 0.5 & 0.5 & 0.449999988079071 & 0.400000005960464 & 0.349999994039536 & 1.0\\\\0.449999988079071 & 0.449999988079071 & 0.449999988079071 & 0.5 & 0.5 & 0.449999988079071 & 1.0 & 1.0 & 0.400000005960464\\\\0.5 & 0.5 & 0.5 & 0.5 & 0.5 & 0.449999988079071 & 0.400000005960464 & 0.400000005960464 & 1.0\\end{matrix}\\right]$"
      ],
      "text/plain": [
       "Matrix([\n",
       "[              0.5,               0.5,               0.5, 0.5, 0.5,               0.5,               0.5, 0.449999988079071,               1.0],\n",
       "[0.449999988079071, 0.449999988079071, 0.449999988079071, 0.5, 0.5, 0.449999988079071, 0.400000005960464, 0.349999994039536, 0.400000005960464],\n",
       "[0.449999988079071,               1.0, 0.449999988079071, 0.5, 0.5, 0.449999988079071,               1.0,               1.0, 0.400000005960464],\n",
       "[0.449999988079071, 0.449999988079071, 0.449999988079071, 0.5, 0.5, 0.449999988079071, 0.400000005960464, 0.300000011920929,               1.0],\n",
       "[              0.5,               0.5,               0.5, 0.5, 0.5,               0.5,               0.5, 0.400000005960464,               1.0],\n",
       "[0.449999988079071, 0.449999988079071, 0.449999988079071, 0.5, 0.5,               0.5,               0.5, 0.400000005960464, 0.400000005960464],\n",
       "[0.449999988079071,               1.0, 0.449999988079071, 0.5, 0.5, 0.449999988079071, 0.400000005960464, 0.349999994039536,               1.0],\n",
       "[0.449999988079071, 0.449999988079071, 0.449999988079071, 0.5, 0.5, 0.449999988079071,               1.0,               1.0, 0.400000005960464],\n",
       "[              0.5,               0.5,               0.5, 0.5, 0.5, 0.449999988079071, 0.400000005960464, 0.400000005960464,               1.0]])"
      ]
     },
     "metadata": {},
     "output_type": "display_data"
    },
    {
     "data": {
      "text/latex": [
       "$\\displaystyle \\left[\\begin{matrix}0.5 & 0.5 & 0.5 & 0.5 & 0.5 & 0.5 & 0.5 & 0.45 & 0.0\\\\0.45 & 0.45 & 0.45 & 0.5 & 0.5 & 0.45 & 0.4 & 0.35 & 0.4\\\\0.45 & 0.0 & 0.45 & 0.5 & 0.5 & 0.45 & 0.0 & 0.0 & 0.4\\\\0.45 & 0.45 & 0.45 & 0.5 & 0.5 & 0.45 & 0.4 & 0.3 & 0.0\\\\0.5 & 0.5 & 0.5 & 0.5 & 0.5 & 0.5 & 0.5 & 0.4 & 0.0\\\\0.45 & 0.45 & 0.45 & 0.5 & 0.5 & 0.5 & 0.5 & 0.4 & 0.4\\\\0.45 & 0.0 & 0.45 & 0.5 & 0.5 & 0.45 & 0.4 & 0.35 & 0.0\\\\0.45 & 0.45 & 0.45 & 0.5 & 0.5 & 0.45 & 0.0 & 0.0 & 0.4\\\\0.5 & 0.5 & 0.5 & 0.5 & 0.5 & 0.45 & 0.4 & 0.4 & 0.45\\end{matrix}\\right]$"
      ],
      "text/plain": [
       "Matrix([\n",
       "[ 0.5,  0.5,  0.5, 0.5, 0.5,  0.5, 0.5, 0.45,  0.0],\n",
       "[0.45, 0.45, 0.45, 0.5, 0.5, 0.45, 0.4, 0.35,  0.4],\n",
       "[0.45,  0.0, 0.45, 0.5, 0.5, 0.45, 0.0,  0.0,  0.4],\n",
       "[0.45, 0.45, 0.45, 0.5, 0.5, 0.45, 0.4,  0.3,  0.0],\n",
       "[ 0.5,  0.5,  0.5, 0.5, 0.5,  0.5, 0.5,  0.4,  0.0],\n",
       "[0.45, 0.45, 0.45, 0.5, 0.5,  0.5, 0.5,  0.4,  0.4],\n",
       "[0.45,  0.0, 0.45, 0.5, 0.5, 0.45, 0.4, 0.35,  0.0],\n",
       "[0.45, 0.45, 0.45, 0.5, 0.5, 0.45, 0.0,  0.0,  0.4],\n",
       "[ 0.5,  0.5,  0.5, 0.5, 0.5, 0.45, 0.4,  0.4, 0.45]])"
      ]
     },
     "metadata": {},
     "output_type": "display_data"
    }
   ],
   "source": [
    "display(sp.Matrix(x_train[8,:,:,0]))\n",
    "display(sp.Matrix(y_train[8].reshape(9,9)))"
   ]
  },
  {
   "cell_type": "code",
   "execution_count": 14,
   "metadata": {},
   "outputs": [
    {
     "name": "stdout",
     "output_type": "stream",
     "text": [
      "Model: \"sequential_1\"\n",
      "_________________________________________________________________\n",
      "Layer (type)                 Output Shape              Param #   \n",
      "=================================================================\n",
      "conv2d_1 (Conv2D)            (None, 7, 7, 64)          640       \n",
      "_________________________________________________________________\n",
      "conv2d_2 (Conv2D)            (None, 5, 5, 64)          36928     \n",
      "_________________________________________________________________\n",
      "conv2d_3 (Conv2D)            (None, 3, 3, 64)          36928     \n",
      "_________________________________________________________________\n",
      "conv2d_4 (Conv2D)            (None, 1, 1, 64)          36928     \n",
      "_________________________________________________________________\n",
      "dropout_1 (Dropout)          (None, 1, 1, 64)          0         \n",
      "_________________________________________________________________\n",
      "flatten_1 (Flatten)          (None, 64)                0         \n",
      "_________________________________________________________________\n",
      "dense_1 (Dense)              (None, 243)               15795     \n",
      "_________________________________________________________________\n",
      "dropout_2 (Dropout)          (None, 243)               0         \n",
      "_________________________________________________________________\n",
      "dense_2 (Dense)              (None, 81)                19764     \n",
      "=================================================================\n",
      "Total params: 146,983\n",
      "Trainable params: 146,983\n",
      "Non-trainable params: 0\n",
      "_________________________________________________________________\n"
     ]
    }
   ],
   "source": [
    "model = keras.Sequential()\n",
    "model.add(keras.layers.Conv2D(64, kernel_size=(3,3),\n",
    "                              activation = 'relu',\n",
    "                              data_format='channels_last',\n",
    "                              input_shape=[x_train.shape[1],\n",
    "                                          x_train.shape[2],\n",
    "                                          x_train.shape[3]]))\n",
    "model.add(keras.layers.Conv2D(64,(3,3),activation='relu'))\n",
    "model.add(keras.layers.Conv2D(64,(3,3),activation='relu'))\n",
    "model.add(keras.layers.Conv2D(64,(3,3),activation='relu'))\n",
    "model.add(keras.layers.Dropout(0.1))\n",
    "model.add(keras.layers.Flatten())\n",
    "model.add(keras.layers.Dense(243,activation='relu'))\n",
    "model.add(keras.layers.Dropout(0.2))\n",
    "model.add(keras.layers.Dense(81, activation='softmax'))\n",
    "\n",
    "model.compile(loss=keras.losses.categorical_crossentropy,\n",
    "              optimizer=keras.optimizers.Adam(),\n",
    "              metrics=['accuracy'])\n",
    "model.summary()"
   ]
  },
  {
   "cell_type": "code",
   "execution_count": null,
   "metadata": {},
   "outputs": [],
   "source": [
    "batch_size = 500\n",
    "epochs = 2000\n",
    "history = model.fit(x_train,y_train,\n",
    "                   batch_size=batch_size,\n",
    "                   epochs=epochs,\n",
    "                   verbose=1)"
   ]
  },
  {
   "cell_type": "code",
   "execution_count": null,
   "metadata": {},
   "outputs": [],
   "source": []
  }
 ],
 "metadata": {
  "kernelspec": {
   "display_name": "Python 3",
   "language": "python",
   "name": "python3"
  },
  "language_info": {
   "codemirror_mode": {
    "name": "ipython",
    "version": 3
   },
   "file_extension": ".py",
   "mimetype": "text/x-python",
   "name": "python",
   "nbconvert_exporter": "python",
   "pygments_lexer": "ipython3",
   "version": "3.7.6"
  }
 },
 "nbformat": 4,
 "nbformat_minor": 4
}
