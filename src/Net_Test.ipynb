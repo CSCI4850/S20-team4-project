{
 "cells": [
  {
   "cell_type": "code",
   "execution_count": 128,
   "metadata": {},
   "outputs": [],
   "source": [
    "import sympy as sp\n",
    "import numpy as np\n",
    "import keras\n",
    "X=np.loadtxt('/home/djc6w/S20-team4-project/src/train.csv', delimiter = ',')\n",
    "X=X.astype('float32')\n",
    "Y=np.loadtxt('/home/djc6w/S20-team4-project/src/test.csv', delimiter = ',')\n",
    "Y=Y.astype('float32')"
   ]
  },
  {
   "cell_type": "code",
   "execution_count": 129,
   "metadata": {},
   "outputs": [
    {
     "name": "stdout",
     "output_type": "stream",
     "text": [
      "(2936, 81)\n",
      "(2936, 81)\n"
     ]
    }
   ],
   "source": [
    "print(X.shape)\n",
    "print(Y.shape)"
   ]
  },
  {
   "cell_type": "code",
   "execution_count": 130,
   "metadata": {},
   "outputs": [],
   "source": [
    "x_train = np.zeros((X.shape[0],9,9,1))\n",
    "for i in range(X.shape[0]):\n",
    "    x_train[i,:,:,0] = X[i].reshape(9,9)\n",
    "y_train = Y"
   ]
  },
  {
   "cell_type": "code",
   "execution_count": 131,
   "metadata": {},
   "outputs": [
    {
     "data": {
      "text/plain": [
       "(2936, 9, 9, 1)"
      ]
     },
     "metadata": {},
     "output_type": "display_data"
    },
    {
     "data": {
      "text/plain": [
       "(2936, 81)"
      ]
     },
     "metadata": {},
     "output_type": "display_data"
    }
   ],
   "source": [
    "display(x_train.shape)\n",
    "display(y_train.shape)"
   ]
  },
  {
   "cell_type": "code",
   "execution_count": 132,
   "metadata": {},
   "outputs": [
    {
     "data": {
      "text/latex": [
       "$\\displaystyle \\left[\\begin{matrix}0.0 & 0.0 & 0.0 & 0.0 & 0.0 & 0.0 & -0.100000001490116 & 1.0 & -0.100000001490116\\\\0.0 & 0.0 & 0.0 & -0.100000001490116 & -0.200000002980232 & -0.200000002980232 & -0.200000002980232 & -0.100000001490116 & -0.100000001490116\\\\-0.100000001490116 & -0.100000001490116 & 0.0 & -0.100000001490116 & 1.0 & 1.0 & -0.100000001490116 & -0.100000001490116 & 1.0\\\\1.0 & -0.200000002980232 & -0.100000001490116 & -0.200000002980232 & 1.0 & 1.0 & 1.0 & 1.0 & 1.0\\\\1.0 & 1.0 & 1.0 & 1.0 & 1.0 & 1.0 & 1.0 & 1.0 & 1.0\\\\1.0 & 1.0 & 1.0 & 1.0 & 1.0 & 1.0 & 1.0 & 1.0 & 1.0\\\\1.0 & 1.0 & 1.0 & 1.0 & 1.0 & 1.0 & 1.0 & 1.0 & 1.0\\\\1.0 & 1.0 & 1.0 & 1.0 & 1.0 & 1.0 & -0.200000002980232 & -0.100000001490116 & -0.100000001490116\\\\1.0 & 1.0 & 1.0 & 1.0 & 1.0 & 1.0 & -0.100000001490116 & 0.0 & 0.0\\end{matrix}\\right]$"
      ],
      "text/plain": [
       "Matrix([\n",
       "[               0.0,                0.0,                0.0,                0.0,                0.0,                0.0, -0.100000001490116,                1.0, -0.100000001490116],\n",
       "[               0.0,                0.0,                0.0, -0.100000001490116, -0.200000002980232, -0.200000002980232, -0.200000002980232, -0.100000001490116, -0.100000001490116],\n",
       "[-0.100000001490116, -0.100000001490116,                0.0, -0.100000001490116,                1.0,                1.0, -0.100000001490116, -0.100000001490116,                1.0],\n",
       "[               1.0, -0.200000002980232, -0.100000001490116, -0.200000002980232,                1.0,                1.0,                1.0,                1.0,                1.0],\n",
       "[               1.0,                1.0,                1.0,                1.0,                1.0,                1.0,                1.0,                1.0,                1.0],\n",
       "[               1.0,                1.0,                1.0,                1.0,                1.0,                1.0,                1.0,                1.0,                1.0],\n",
       "[               1.0,                1.0,                1.0,                1.0,                1.0,                1.0,                1.0,                1.0,                1.0],\n",
       "[               1.0,                1.0,                1.0,                1.0,                1.0,                1.0, -0.200000002980232, -0.100000001490116, -0.100000001490116],\n",
       "[               1.0,                1.0,                1.0,                1.0,                1.0,                1.0, -0.100000001490116,                0.0,                0.0]])"
      ]
     },
     "metadata": {},
     "output_type": "display_data"
    },
    {
     "data": {
      "text/latex": [
       "$\\displaystyle \\left[\\begin{matrix}0.0 & 0.0 & 0.0 & 0.0 & 0.0 & 0.0 & -0.1 & -1.0 & -0.1\\\\0.0 & 0.0 & 0.0 & -0.1 & -0.2 & -0.2 & -0.2 & -0.1 & -0.1\\\\-0.1 & -0.1 & 0.0 & -0.1 & -1.0 & -1.0 & -0.1 & -0.1 & -0.1\\\\-1.0 & -0.2 & -0.1 & -0.2 & -0.2 & -0.2 & -0.1 & -0.1 & -1.0\\\\-0.1 & -0.2 & -1.0 & -0.1 & 0.0 & 0.0 & 0.0 & -0.2 & -0.2\\\\-0.1 & -0.2 & -0.1 & -0.1 & 0.0 & 0.0 & -0.1 & -0.2 & -1.0\\\\-1.0 & -0.1 & 0.0 & 0.0 & 0.0 & 0.0 & -0.1 & -1.0 & -0.2\\\\-0.1 & -0.1 & 0.0 & 0.0 & -0.1 & -0.1 & -0.2 & -0.1 & -0.1\\\\0.0 & 0.0 & 0.0 & 0.0 & -0.1 & -1.0 & -0.1 & 0.0 & 0.0\\end{matrix}\\right]$"
      ],
      "text/plain": [
       "Matrix([\n",
       "[ 0.0,  0.0,  0.0,  0.0,  0.0,  0.0, -0.1, -1.0, -0.1],\n",
       "[ 0.0,  0.0,  0.0, -0.1, -0.2, -0.2, -0.2, -0.1, -0.1],\n",
       "[-0.1, -0.1,  0.0, -0.1, -1.0, -1.0, -0.1, -0.1, -0.1],\n",
       "[-1.0, -0.2, -0.1, -0.2, -0.2, -0.2, -0.1, -0.1, -1.0],\n",
       "[-0.1, -0.2, -1.0, -0.1,  0.0,  0.0,  0.0, -0.2, -0.2],\n",
       "[-0.1, -0.2, -0.1, -0.1,  0.0,  0.0, -0.1, -0.2, -1.0],\n",
       "[-1.0, -0.1,  0.0,  0.0,  0.0,  0.0, -0.1, -1.0, -0.2],\n",
       "[-0.1, -0.1,  0.0,  0.0, -0.1, -0.1, -0.2, -0.1, -0.1],\n",
       "[ 0.0,  0.0,  0.0,  0.0, -0.1, -1.0, -0.1,  0.0,  0.0]])"
      ]
     },
     "metadata": {},
     "output_type": "display_data"
    },
    {
     "data": {
      "text/plain": [
       "(2936, 9, 9, 1)"
      ]
     },
     "execution_count": 132,
     "metadata": {},
     "output_type": "execute_result"
    }
   ],
   "source": [
    "display(sp.Matrix(x_train[24,:,:,0]))\n",
    "display(sp.Matrix(y_train[24].reshape(9,9)))\n",
    "x_train.shape"
   ]
  },
  {
   "cell_type": "code",
   "execution_count": 142,
   "metadata": {},
   "outputs": [
    {
     "name": "stdout",
     "output_type": "stream",
     "text": [
      "Model: \"sequential_38\"\n",
      "_________________________________________________________________\n",
      "Layer (type)                 Output Shape              Param #   \n",
      "=================================================================\n",
      "conv2d_83 (Conv2D)           (None, 5, 5, 12)          312       \n",
      "_________________________________________________________________\n",
      "conv2d_84 (Conv2D)           (None, 3, 3, 18)          1962      \n",
      "_________________________________________________________________\n",
      "flatten_26 (Flatten)         (None, 162)               0         \n",
      "_________________________________________________________________\n",
      "dense_64 (Dense)             (None, 162)               26406     \n",
      "_________________________________________________________________\n",
      "dense_65 (Dense)             (None, 123)               20049     \n",
      "_________________________________________________________________\n",
      "dense_66 (Dense)             (None, 81)                10044     \n",
      "=================================================================\n",
      "Total params: 58,773\n",
      "Trainable params: 58,773\n",
      "Non-trainable params: 0\n",
      "_________________________________________________________________\n"
     ]
    }
   ],
   "source": [
    "model = keras.Sequential()\n",
    "model.add(keras.layers.Conv2D(12, kernel_size=(5,5),\n",
    "                              activation = 'tanh',\n",
    "                              data_format='channels_last',\n",
    "                              input_shape=[x_train.shape[1],\n",
    "                                          x_train.shape[2],\n",
    "                                          x_train.shape[3]]))\n",
    "model.add(keras.layers.Conv2D(18,(3,3),activation='tanh'))\n",
    "model.add(keras.layers.Flatten())\n",
    "model.add(keras.layers.Dense(162, activation='tanh'))\n",
    "model.add(keras.layers.Dense(123, activation='tanh'))\n",
    "model.add(keras.layers.Dense(81, activation='tanh'))\n",
    "\n",
    "model.compile(loss='mean_squared_error',\n",
    "              optimizer=keras.optimizers.SGD(),\n",
    "              metrics=['accuracy'])\n",
    "model.summary()"
   ]
  },
  {
   "cell_type": "code",
   "execution_count": 145,
   "metadata": {},
   "outputs": [],
   "source": [
    "batch_size = 1\n",
    "epochs = 75\n",
    "history = model.fit(x_train,y_train,\n",
    "                   batch_size=batch_size,\n",
    "                   epochs=epochs,\n",
    "                   verbose=0)"
   ]
  },
  {
   "cell_type": "code",
   "execution_count": 146,
   "metadata": {},
   "outputs": [
    {
     "data": {
      "image/png": "[encoded data removed]",
      "text/plain": [
       "<Figure size 432x288 with 2 Axes>"
      ]
     },
     "metadata": {
      "needs_background": "light"
     },
     "output_type": "display_data"
    }
   ],
   "source": [
    "import matplotlib.pyplot as plt\n",
    "plt.figure(1)\n",
    "plt.subplot(211)\n",
    "\n",
    "plt.plot(history.history['accuracy'])\n",
    "plt.title('model accuracy')\n",
    "plt.ylabel('accuracy')\n",
    "plt.xlabel('epoch')\n",
    "plt.legend(['train','val'],loc='upper left')\n",
    "\n",
    "plt.subplot(212)\n",
    "plt.plot(history.history['loss'])\n",
    "plt.title('model loss')\n",
    "plt.xlabel('epoch')\n",
    "plt.ylabel('loss')\n",
    "plt.legend(['train','val'], loc='upper left')\n",
    "\n",
    "plt.tight_layout()\n",
    "plt.show()"
   ]
  },
  {
   "cell_type": "code",
   "execution_count": 123,
   "metadata": {},
   "outputs": [
    {
     "data": {
      "text/latex": [
       "$\\displaystyle \\left[\\begin{matrix}0.0 & 0.0 & -0.100000001490116 & 1.0 & 1.0 & 1.0 & 1.0 & 1.0 & 1.0\\\\0.0 & -0.100000001490116 & -0.200000002980232 & 1.0 & 1.0 & 1.0 & 1.0 & 1.0 & 1.0\\\\-0.100000001490116 & -0.200000002980232 & 1.0 & 1.0 & 1.0 & 1.0 & 1.0 & 1.0 & 1.0\\\\1.0 & 1.0 & 1.0 & 1.0 & 1.0 & 1.0 & 1.0 & 1.0 & 1.0\\\\1.0 & 1.0 & 1.0 & 1.0 & 1.0 & 1.0 & 1.0 & 1.0 & 1.0\\\\1.0 & 1.0 & 1.0 & 1.0 & 1.0 & 1.0 & 1.0 & 1.0 & 1.0\\\\1.0 & 1.0 & 1.0 & 1.0 & 1.0 & 1.0 & 1.0 & 1.0 & 1.0\\\\1.0 & 1.0 & 1.0 & 1.0 & 1.0 & 1.0 & 1.0 & 1.0 & 1.0\\\\1.0 & 1.0 & 1.0 & 1.0 & 1.0 & 1.0 & 1.0 & 1.0 & 1.0\\end{matrix}\\right]$"
      ],
      "text/plain": [
       "Matrix([\n",
       "[               0.0,                0.0, -0.100000001490116, 1.0, 1.0, 1.0, 1.0, 1.0, 1.0],\n",
       "[               0.0, -0.100000001490116, -0.200000002980232, 1.0, 1.0, 1.0, 1.0, 1.0, 1.0],\n",
       "[-0.100000001490116, -0.200000002980232,                1.0, 1.0, 1.0, 1.0, 1.0, 1.0, 1.0],\n",
       "[               1.0,                1.0,                1.0, 1.0, 1.0, 1.0, 1.0, 1.0, 1.0],\n",
       "[               1.0,                1.0,                1.0, 1.0, 1.0, 1.0, 1.0, 1.0, 1.0],\n",
       "[               1.0,                1.0,                1.0, 1.0, 1.0, 1.0, 1.0, 1.0, 1.0],\n",
       "[               1.0,                1.0,                1.0, 1.0, 1.0, 1.0, 1.0, 1.0, 1.0],\n",
       "[               1.0,                1.0,                1.0, 1.0, 1.0, 1.0, 1.0, 1.0, 1.0],\n",
       "[               1.0,                1.0,                1.0, 1.0, 1.0, 1.0, 1.0, 1.0, 1.0]])"
      ]
     },
     "execution_count": 123,
     "metadata": {},
     "output_type": "execute_result"
    }
   ],
   "source": [
    "sp.Matrix(x_train[0,:,:,0])"
   ]
  },
  {
   "cell_type": "code",
   "execution_count": 122,
   "metadata": {},
   "outputs": [
    {
     "data": {
      "text/latex": [
       "$\\displaystyle \\left[\\begin{matrix}-0.239925 & -0.0972286 & -0.155514 & -0.234172 & -0.124876 & -0.0695136 & -0.0367796 & -0.0964941 & -0.0841551\\\\0.0667097 & -0.0510283 & -0.166075 & -0.623892 & -0.35142 & -0.0567252 & 0.0215617 & 0.0247414 & -0.186853\\\\-0.0386612 & -0.0973796 & -0.479644 & -0.554819 & -0.648375 & -0.245321 & 0.0294114 & -0.0423898 & -0.159279\\\\-0.281397 & -0.549596 & -0.151816 & -0.372966 & -0.114746 & -0.458818 & -0.24004 & -0.255932 & -0.418754\\\\-0.06307 & -0.221863 & -0.232172 & -0.107607 & -0.243642 & -0.0931583 & -0.38359 & -0.226523 & -0.102435\\\\-0.0637133 & -0.137557 & -0.295134 & -0.20824 & -0.195798 & -0.478125 & -0.200795 & -0.00151409 & -0.136496\\\\-0.479021 & -0.343132 & -0.436693 & -0.390716 & -0.316678 & -0.222308 & -0.116906 & 0.0183631 & 0.0122297\\\\-0.366413 & -0.436459 & -0.301127 & -0.43206 & -0.0246958 & -0.175519 & -0.320527 & -0.0175348 & 0.0875976\\\\-0.0888306 & -0.261412 & -0.128123 & -0.158913 & -0.0800022 & -0.426423 & -0.0399937 & 0.15925 & -0.259733\\end{matrix}\\right]$"
      ],
      "text/plain": [
       "Matrix([\n",
       "[ -0.239925, -0.0972286, -0.155514, -0.234172,  -0.124876, -0.0695136, -0.0367796,  -0.0964941, -0.0841551],\n",
       "[ 0.0667097, -0.0510283, -0.166075, -0.623892,   -0.35142, -0.0567252,  0.0215617,   0.0247414,  -0.186853],\n",
       "[-0.0386612, -0.0973796, -0.479644, -0.554819,  -0.648375,  -0.245321,  0.0294114,  -0.0423898,  -0.159279],\n",
       "[ -0.281397,  -0.549596, -0.151816, -0.372966,  -0.114746,  -0.458818,   -0.24004,   -0.255932,  -0.418754],\n",
       "[  -0.06307,  -0.221863, -0.232172, -0.107607,  -0.243642, -0.0931583,   -0.38359,   -0.226523,  -0.102435],\n",
       "[-0.0637133,  -0.137557, -0.295134,  -0.20824,  -0.195798,  -0.478125,  -0.200795, -0.00151409,  -0.136496],\n",
       "[ -0.479021,  -0.343132, -0.436693, -0.390716,  -0.316678,  -0.222308,  -0.116906,   0.0183631,  0.0122297],\n",
       "[ -0.366413,  -0.436459, -0.301127,  -0.43206, -0.0246958,  -0.175519,  -0.320527,  -0.0175348,  0.0875976],\n",
       "[-0.0888306,  -0.261412, -0.128123, -0.158913, -0.0800022,  -0.426423, -0.0399937,     0.15925,  -0.259733]])"
      ]
     },
     "metadata": {},
     "output_type": "display_data"
    },
    {
     "data": {
      "text/latex": [
       "$\\displaystyle \\left[\\begin{matrix}0.0 & 0.0 & -0.1 & -0.1 & -0.1 & 0.0 & 0.0 & -0.1 & -0.1\\\\0.0 & -0.1 & -0.2 & -1.0 & -0.1 & 0.0 & 0.0 & -0.1 & -1.0\\\\-0.1 & -0.2 & -1.0 & -0.2 & -0.1 & 0.0 & 0.0 & -0.1 & -0.1\\\\-0.1 & -1.0 & -0.2 & -0.1 & 0.0 & 0.0 & 0.0 & 0.0 & 0.0\\\\-0.1 & -0.1 & -0.1 & 0.0 & 0.0 & 0.0 & 0.0 & 0.0 & 0.0\\\\-0.1 & -0.2 & -0.2 & -0.2 & -0.2 & -0.1 & -0.1 & 0.0 & 0.0\\\\-1.0 & -0.3 & -1.0 & -1.0 & -0.3 & -1.0 & -0.1 & 0.0 & 0.0\\\\-0.2 & -1.0 & -0.4 & -1.0 & -0.3 & -0.1 & -0.1 & 0.0 & 0.0\\\\-0.1 & -0.1 & -0.2 & -0.1 & -0.1 & 0.0 & 0.0 & 0.0 & 0.0\\end{matrix}\\right]$"
      ],
      "text/plain": [
       "Matrix([\n",
       "[ 0.0,  0.0, -0.1, -0.1, -0.1,  0.0,  0.0, -0.1, -0.1],\n",
       "[ 0.0, -0.1, -0.2, -1.0, -0.1,  0.0,  0.0, -0.1, -1.0],\n",
       "[-0.1, -0.2, -1.0, -0.2, -0.1,  0.0,  0.0, -0.1, -0.1],\n",
       "[-0.1, -1.0, -0.2, -0.1,  0.0,  0.0,  0.0,  0.0,  0.0],\n",
       "[-0.1, -0.1, -0.1,  0.0,  0.0,  0.0,  0.0,  0.0,  0.0],\n",
       "[-0.1, -0.2, -0.2, -0.2, -0.2, -0.1, -0.1,  0.0,  0.0],\n",
       "[-1.0, -0.3, -1.0, -1.0, -0.3, -1.0, -0.1,  0.0,  0.0],\n",
       "[-0.2, -1.0, -0.4, -1.0, -0.3, -0.1, -0.1,  0.0,  0.0],\n",
       "[-0.1, -0.1, -0.2, -0.1, -0.1,  0.0,  0.0,  0.0,  0.0]])"
      ]
     },
     "metadata": {},
     "output_type": "display_data"
    }
   ],
   "source": [
    "preds = model.predict(x_train[0:1,:,:,:]).astype(\"float32\")\n",
    "display(sp.Matrix(preds.reshape(9,9)))\n",
    "display(sp.Matrix(y_train[8].reshape(9,9)))"
   ]
  },
  {
   "cell_type": "code",
   "execution_count": null,
   "metadata": {},
   "outputs": [],
   "source": []
  },
  {
   "cell_type": "code",
   "execution_count": null,
   "metadata": {},
   "outputs": [],
   "source": []
  }
 ],
 "metadata": {
  "kernelspec": {
   "display_name": "Python 3",
   "language": "python",
   "name": "python3"
  },
  "language_info": {
   "codemirror_mode": {
    "name": "ipython",
    "version": 3
   },
   "file_extension": ".py",
   "mimetype": "text/x-python",
   "name": "python",
   "nbconvert_exporter": "python",
   "pygments_lexer": "ipython3",
   "version": "3.7.6"
  }
 },
 "nbformat": 4,
 "nbformat_minor": 4
}
