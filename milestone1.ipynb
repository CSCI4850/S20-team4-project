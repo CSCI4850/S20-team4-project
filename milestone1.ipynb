{
 "cells": [
  {
   "cell_type": "markdown",
   "metadata": {},
   "source": [
    "Milestone 1\n"
   ]
  },
  {
   "cell_type": "markdown",
   "metadata": {},
   "source": [
    "Deliverable      Percent Complete    Estimated Completion Date    Percent Complete by Next Milestone\n",
    "\n",
    "    Code         15%                 Apr 14                       35%\n",
    "    Paper        0%                  Apr 21                       5%\n",
    "    Demo         0%                  May 1                        5%\n",
    "    Presentation 0%                  May 5                        5%"
   ]
  },
  {
   "cell_type": "markdown",
   "metadata": {},
   "source": [
    "1. What deliverable goals established in the last milestone report were accomplished to the anticipated percentage?\n",
    "\n",
    "We have a working implementation of minesweeper. now we just need to capture the data for the neural net"
   ]
  },
  {
   "cell_type": "markdown",
   "metadata": {},
   "source": [
    "2. What deliverable goals established in the last milestone report were were not accomplished to the anticipated\n",
    "percentage?\n",
    "\n",
    "\n"
   ]
  }
 ],
 "metadata": {
  "kernelspec": {
   "display_name": "Python 3",
   "language": "python",
   "name": "python3"
  },
  "language_info": {
   "codemirror_mode": {
    "name": "ipython",
    "version": 3
   },
   "file_extension": ".py",
   "mimetype": "text/x-python",
   "name": "python",
   "nbconvert_exporter": "python",
   "pygments_lexer": "ipython3",
   "version": "3.7.6"
  }
 },
 "nbformat": 4,
 "nbformat_minor": 4
}
