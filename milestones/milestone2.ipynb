{
 "cells": [
  {
   "cell_type": "markdown",
   "metadata": {},
   "source": [
    "Milestone 2"
   ]
  },
  {
   "cell_type": "markdown",
   "metadata": {},
   "source": [
    "Deliverable      Percent Complete    Estimated Completion Date    Percent Complete by Next Milestone\n",
    "\n",
    "    Code         35%                 Apr 14                       75%\n",
    "    Paper        0%                  Apr 21                       5%\n",
    "    Demo         0%                  May 1                        5%\n",
    "    Presentation 0%                  May 5                        5%"
   ]
  },
  {
   "cell_type": "markdown",
   "metadata": {},
   "source": [
    "1. What deliverable goals established in the last milestone report were accomplished to the anticipated percentage?\n",
    "\n",
    "From our previous goals, we now have a way to collect our grid as data and push it into a csv file to be used by the net.\n",
    "This was done by adapting portions of the working implementation of minesweeper, which we had mentioned we had in the last milestone report."
   ]
  },
  {
   "cell_type": "markdown",
   "metadata": {},
   "source": [
    "2. What deliverable goals established in the last milestone report were were not accomplished to the anticipated percentage?\n",
    "\n",
    "We have met the majority of our goals, though currently we need to get to training the net. We have not had a chance to begin development on the paper, the demo, or the presentation yet. This is because our main goal, currently, has been to complete a majority of our code."
   ]
  },
  {
   "cell_type": "markdown",
   "metadata": {},
   "source": [
    "\n",
    "3. What are the main deliverable goals to meet before the next milestone report, and who is working on them?\n",
    "\n",
    "Before the next milestone, our main goals are to:\n",
    "\n",
    "    (Documentation/Management) Begin working on the paper and complete the milestone report; Darien and Jeffrey\n",
    "    \n",
    "    (Data Organization) Finish a majority of our code and develop our data sets from csv files; Tristan and Daniel\n",
    "    \n",
    "    (Network Development) Basic framework for possible types of nets we could use for our project; Muhammad and Robbie\n",
    "    "
   ]
  }
 ],
 "metadata": {
  "kernelspec": {
   "display_name": "Python 3",
   "language": "python",
   "name": "python3"
  },
  "language_info": {
   "codemirror_mode": {
    "name": "ipython",
    "version": 3
   },
   "file_extension": ".py",
   "mimetype": "text/x-python",
   "name": "python",
   "nbconvert_exporter": "python",
   "pygments_lexer": "ipython3",
   "version": "3.7.4"
  }
 },
 "nbformat": 4,
 "nbformat_minor": 4
}
