{
 "cells": [
  {
   "cell_type": "markdown",
   "metadata": {},
   "source": [
    "Milestone 4"
   ]
  },
  {
   "cell_type": "markdown",
   "metadata": {},
   "source": [
    "Deliverable      Percent Complete    Estimated Completion Date    Percent Complete by Next Milestone\n",
    "\n",
    "    Code         100%                Apr 21                       100%\n",
    "    Paper        100%                Apr 28                       100%\n",
    "    Demo         30%                 May 5                        100%\n",
    "    Presentation 0%                  May 7                        100%"
   ]
  },
  {
   "cell_type": "markdown",
   "metadata": {},
   "source": [
    "1. What deliverable goals established in the last milestone report were accomplished to the anticipated percentage?\n",
    "\n",
    "The net is built and is sufficiently trained for our problem. The paper is completed and will be turned in, tonight."
   ]
  },
  {
   "cell_type": "markdown",
   "metadata": {},
   "source": [
    "2. What deliverable goals established in the last milestone report were were not accomplished to the anticipated percentage?\n",
    "\n",
    "We have not gotten to start our presentation yet, though for all of our other goals we feel as though we are ahead of our initial schedule."
   ]
  },
  {
   "cell_type": "markdown",
   "metadata": {},
   "source": [
    "3. What are the main deliverable goals to meet before the next milestone report, and who is working on them?\n",
    "Before the next milestone, our main goals are to:\n",
    "\n",
    "1) Complete the presentation\n",
    "\n",
    "2) Complete the demo\n",
    "\n",
    "3) Optimize the net\n",
    "\n",
    "\n",
    "Presentation: Jeffrey and Muhammad\n",
    "    \n",
    "Complete the demo: Tristan and Robbie\n",
    "\n",
    "Optimize the net: Daniel and Darien"
   ]
  }
 ],
 "metadata": {
  "kernelspec": {
   "display_name": "Python 3",
   "language": "python",
   "name": "python3"
  },
  "language_info": {
   "codemirror_mode": {
    "name": "ipython",
    "version": 3
   },
   "file_extension": ".py",
   "mimetype": "text/x-python",
   "name": "python",
   "nbconvert_exporter": "python",
   "pygments_lexer": "ipython3",
   "version": "3.7.6"
  }
 },
 "nbformat": 4,
 "nbformat_minor": 4
}
