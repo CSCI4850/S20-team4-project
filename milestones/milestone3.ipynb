{
 "cells": [
  {
   "cell_type": "markdown",
   "metadata": {},
   "source": [
    "Milestone 3"
   ]
  },
  {
   "cell_type": "markdown",
   "metadata": {},
   "source": [
    "Deliverable      Percent Complete    Estimated Completion Date    Percent Complete by Next Milestone\n",
    "\n",
    "    Code         60%                 Apr 21                       100%\n",
    "    Paper        5%                  Apr 22                       100%\n",
    "    Demo         0%                  May 1                        50%\n",
    "    Presentation 0%                  May 5                        50%"
   ]
  },
  {
   "cell_type": "markdown",
   "metadata": {},
   "source": [
    "1. What deliverable goals established in the last milestone report were accomplished to the anticipated percentage?\n",
    "\n",
    "We have a working implementation of minesweeper, and have the ability to create csv files to train the neural net with."
   ]
  },
  {
   "cell_type": "markdown",
   "metadata": {},
   "source": [
    "2. What deliverable goals established in the last milestone report were were not accomplished to the anticipated percentage?\n",
    "\n",
    "we have met the majority of our goals so far, we just need to train up a neural net. we have started a little bit on the paper but not much. we have not been able to start on the presentation or the demo yet, because we need to get to the point to train the net first. "
   ]
  },
  {
   "cell_type": "markdown",
   "metadata": {},
   "source": [
    "3. What are the main deliverable goals to meet before the next milestone report, and who is working on them?\n",
    "Before the next milestone, our main goals are to:\n",
    "\n",
    "create neural net to train in teams of 2; \n",
    "\n",
    "    team 1: Daniel and Robbie\n",
    "    \n",
    "    team 2: Darien and Jeffrey\n",
    "\n",
    "finish the paper; Tristan and Muhammad"
   ]
  },
  {
   "cell_type": "code",
   "execution_count": null,
   "metadata": {},
   "outputs": [],
   "source": []
  }
 ],
 "metadata": {
  "kernelspec": {
   "display_name": "Python 3",
   "language": "python",
   "name": "python3"
  },
  "language_info": {
   "codemirror_mode": {
    "name": "ipython",
    "version": 3
   },
   "file_extension": ".py",
   "mimetype": "text/x-python",
   "name": "python",
   "nbconvert_exporter": "python",
   "pygments_lexer": "ipython3",
   "version": "3.7.6"
  }
 },
 "nbformat": 4,
 "nbformat_minor": 4
}
