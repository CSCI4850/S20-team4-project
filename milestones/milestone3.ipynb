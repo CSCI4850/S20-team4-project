{
 "cells": [
  {
   "cell_type": "markdown",
   "metadata": {},
   "source": [
    "Milestone 3"
   ]
  },
  {
   "cell_type": "markdown",
   "metadata": {},
   "source": [
    "Deliverable      Percent Complete    Estimated Completion Date    Percent Complete by Next Milestone\n",
    "\n",
    "    Code         60%                 Apr 21                       100%\n",
    "    Paper        5%                  Apr 22                       100%\n",
    "    Demo         0%                  May 1                        50%\n",
    "    Presentation 0%                  May 5                        50%"
   ]
  },
  {
   "cell_type": "markdown",
   "metadata": {},
   "source": [
    "1. What deliverable goals established in the last milestone report were accomplished to the anticipated percentage?\n",
    "\n",
    "A majority if our code has been completed, we have means of storing our data, and we are currently working on starting the net. The extent of research has broadened for use in the paper."
   ]
  },
  {
   "cell_type": "markdown",
   "metadata": {},
   "source": [
    "2. What deliverable goals established in the last milestone report were were not accomplished to the anticipated percentage?\n",
    "\n",
    "We had anticipated to be slightly farther along at this point in starting the net. We have also not been able to start on our demo or presentation yet, which we had anticipated in our previous goals to begin working with."
   ]
  },
  {
   "cell_type": "markdown",
   "metadata": {},
   "source": [
    "3. What are the main deliverable goals to meet before the next milestone report, and who is working on them?\n",
    "Before the next milestone, our main goals are to:\n",
    "\n",
    "1) Create a net, ready to be trained, if not already being trained sufficiently\n",
    "\n",
    "2) Have the paper completed\n",
    "\n",
    "3) Complete a majority of the presentation\n",
    "\n",
    "4) Be training the net (as previously mentioned) for use in the demo\n",
    "\n",
    "We have broken into teams in order to find the most successful route to finishing our net. Each of these teams are working on their own approach to completing the net, while coordinating between the other group to make stronger progress.\n",
    "\n",
    "Teams:\n",
    "\n",
    "    Team 1: Daniel and Robbie\n",
    "    \n",
    "    Team 2: Darien and Jeffrey\n",
    "\n",
    "Currently working on the paper: Tristan and Muhammad\n",
    "\n",
    "Ofcourse, when necessary, we are working with eachother when breakthroughs are made in the nets or when we come across something useful for the paper or the presentation, etc. "
   ]
  }
 ],
 "metadata": {
  "kernelspec": {
   "display_name": "Python 3",
   "language": "python",
   "name": "python3"
  },
  "language_info": {
   "codemirror_mode": {
    "name": "ipython",
    "version": 3
   },
   "file_extension": ".py",
   "mimetype": "text/x-python",
   "name": "python",
   "nbconvert_exporter": "python",
   "pygments_lexer": "ipython3",
   "version": "3.7.4"
  }
 },
 "nbformat": 4,
 "nbformat_minor": 4
}
