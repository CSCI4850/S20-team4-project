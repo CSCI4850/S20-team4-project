{
 "cells": [
  {
   "cell_type": "markdown",
   "metadata": {},
   "source": [
    "### Group 4 <br> Project Proposal"
   ]
  },
  {
   "cell_type": "markdown",
   "metadata": {},
   "source": [
    "#### Darien Kidwell <br> Daniel Cox <br> Jeffrey Mitchell <br> Muhammad Abed <br> Robbie Bird <br> Tristan Lotivio"
   ]
  },
  {
   "cell_type": "markdown",
   "metadata": {},
   "source": [
    "Our project’s aim is to develop a neural net that can, with a reasonable percentage of success, play Minesweeper. The focused aim will be using probability as a guide for a machine that traverses the game board. The role of the neural network will be to develop and reinforce a matrix that represents individual board states and adaptively determines if there is a suitable move. Our data set will set up by us with various instances of a Minesweeper board state represented in Python arrays. We may also attempt to train the net on multiple board states developed by our group members.\n",
    "\n",
    "Team Sigmoid will take on the development process for a neural network that will effectively and efficiently learn how to play and win at the computer game, Minesweeper. The general aim of this project is for Team Sigmoid to learn and implement probability as the machine assesses its next move from information gained from the boardstate. We will use the neural network to process and update matrices that represents board states and adaptively determines the next move based on that boardstate, safe spaces and mine spaces. The team is considering multiple datasets as we consider how we might be able to best formalize our datasets for the neural network. We could present it with a multitude of boardstates created by our group members and other mediums to give it experience on learning specific and random decision making, or let it train on multiple instances of the game. The verifiable protocol will consist of the neural net playing the game under supervision and monitoring the percentage of successfully completed games. The indicator of failure will be the opening of a space that contains a bomb, whereas the indicator of success will be opening a space that does not. Thus, the network will require a reference to the board state to develop a probability of the “value” at each square during the decision making process.\n",
    "\n",
    "A single layer forward network may be effective if the network makes a single space decision to “click”,”flag”, or “move” based on the surrounding spaces. The board could then be solved via traversal. The data set would consist of the 24 spaces around each “location” in board states.Training data would be presented in a vectors of size 24 with a label of 1,2,or 3, each representative of a “decision”. Each vector coded with values representing the state of each surrounding space,whether unclicked, numbered, or flagged. If all flags are consumed  and make a prediction. Using Keras, we will set up a neural network that works similar to the first single layer we used could possibly be effective at producing a high percentage of success and the board could potentially be traversed algorithmically. A multi-layer network may be needed if we intend to monitor a complete boar state and choose a single space to “click” as the least likely to be a mine. The Network would have to be adaptive to varying board sizes or be limited to a single board size. However, a multi-layer network may develop a higher percentage of success.\n",
    "\n",
    "We have realized that it will not be able to win the game 100% of the time due to the fact that the board will be different every time and there will always be a few games where the first space chosen is a bomb. We are still going to shoot for at least 85-90% accuracy."
   ]
  },
  {
   "cell_type": "markdown",
   "metadata": {},
   "source": [
    "| Deliverable | Percent Complete | Estimated Completion Date | Percent Complete by Next Milestone |\n",
    "| --- | --- | --- | --- |\n",
    "| Code | 10% | Apr 14 | 50% |\n",
    "| Paper | 0% | Apr 21 | 15% |\n",
    "| Demo | 0% | May 1 | 0% |\n",
    "| Presentation | 0% | May 5 | 0% |"
   ]
  }
 ],
 "metadata": {
  "kernelspec": {
   "display_name": "Python 3",
   "language": "python",
   "name": "python3"
  },
  "language_info": {
   "codemirror_mode": {
    "name": "ipython",
    "version": 3
   },
   "file_extension": ".py",
   "mimetype": "text/x-python",
   "name": "python",
   "nbconvert_exporter": "python",
   "pygments_lexer": "ipython3",
   "version": "3.7.6"
  }
 },
 "nbformat": 4,
 "nbformat_minor": 4
}
